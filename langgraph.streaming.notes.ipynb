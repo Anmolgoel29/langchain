{
 "cells": [
  {
   "cell_type": "code",
   "execution_count": 4,
   "id": "bc5b3b08",
   "metadata": {},
   "outputs": [
    {
     "data": {
      "text/plain": [
       "True"
      ]
     },
     "execution_count": 4,
     "metadata": {},
     "output_type": "execute_result"
    }
   ],
   "source": [
    "from langgraph.graph import StateGraph, START, END\n",
    "from typing import Annotated\n",
    "from langchain.chat_models import init_chat_model\n",
    "from langgraph.graph.message import add_messages\n",
    "from typing_extensions import TypedDict\n",
    "from dotenv import load_dotenv\n",
    "load_dotenv()"
   ]
  },
  {
   "cell_type": "code",
   "execution_count": 3,
   "id": "95f1d2c2",
   "metadata": {},
   "outputs": [],
   "source": [
    "class State (TypedDict):\n",
    "    messages : Annotated[list , add_messages]\n",
    "\n",
    "graphBuilder = StateGraph(State)"
   ]
  },
  {
   "cell_type": "code",
   "execution_count": 5,
   "id": "45e89063",
   "metadata": {},
   "outputs": [],
   "source": [
    "model  = init_chat_model(model= \"meta-llama/Llama-3.3-70B-Instruct-Turbo-Free\" , model_provider= \"together\")\n",
    "\n",
    "\n",
    "def llm(state :State):\n",
    "    return {\"messages\" : model.invoke(state[\"messages\"])}\n",
    "\n",
    "graphBuilder.add_node(\"llm\" , llm)\n",
    "graphBuilder.add_edge(START , \"llm\")\n",
    "graphBuilder.add_edge(\"llm\" , END)\n",
    "\n",
    "graph = graphBuilder.compile()"
   ]
  },
  {
   "cell_type": "code",
   "execution_count": null,
   "id": "bb0a95a4",
   "metadata": {},
   "outputs": [
    {
     "name": "stdout",
     "output_type": "stream",
     "text": [
      "Hello. Not much, just here to help with any questions or topics you'd like to discuss. How's your day going so far?"
     ]
    }
   ],
   "source": [
    "for i in graph.stream({\"messages\":\"hello what is up bro\"} , stream_mode=\"messages\"):\n",
    "    print(i[-1].content , end=\"\")"
   ]
  },
  {
   "cell_type": "code",
   "execution_count": 18,
   "id": "2148c945",
   "metadata": {},
   "outputs": [
    {
     "name": "stdout",
     "output_type": "stream",
     "text": [
      "{'messages': [HumanMessage(content='hello what is up bro', additional_kwargs={}, response_metadata={}, id='dd0f3903-9283-4839-ac31-0187206276b0')]}\n",
      "{'messages': [HumanMessage(content='hello what is up bro', additional_kwargs={}, response_metadata={}, id='dd0f3903-9283-4839-ac31-0187206276b0'), AIMessage(content=\"Hello. Not much, just here to help with any questions or topics you'd like to discuss. How's your day going so far?\", additional_kwargs={'refusal': None}, response_metadata={'token_usage': {'completion_tokens': 29, 'prompt_tokens': 40, 'total_tokens': 69, 'completion_tokens_details': None, 'prompt_tokens_details': None, 'cached_tokens': 0}, 'model_name': 'meta-llama/Llama-3.3-70B-Instruct-Turbo-Free', 'system_fingerprint': None, 'id': 'nqkdJiS-3NKUce-932eb783fdcc33ba', 'finish_reason': 'stop', 'logprobs': None}, id='run-9bd4cd67-13e7-436c-b928-935de17853af-0', usage_metadata={'input_tokens': 40, 'output_tokens': 29, 'total_tokens': 69, 'input_token_details': {}, 'output_token_details': {}})]}\n"
     ]
    }
   ],
   "source": [
    "for i in graph.stream({\"messages\":\"hello what is up bro\"} , stream_mode=\"values\"):\n",
    "    print(i)"
   ]
  },
  {
   "cell_type": "code",
   "execution_count": 14,
   "id": "cd60933b",
   "metadata": {},
   "outputs": [
    {
     "name": "stdout",
     "output_type": "stream",
     "text": [
      "{'llm': {'messages': AIMessage(content=\"Hello. Not much, just here to help with any questions or topics you'd like to discuss. What's on your mind, bro?\", additional_kwargs={'refusal': None}, response_metadata={'token_usage': {'completion_tokens': 29, 'prompt_tokens': 40, 'total_tokens': 69, 'completion_tokens_details': None, 'prompt_tokens_details': None, 'cached_tokens': 0}, 'model_name': 'meta-llama/Llama-3.3-70B-Instruct-Turbo-Free', 'system_fingerprint': None, 'id': 'nqkd3jp-4Yz4kd-932eb64978b333cc', 'finish_reason': 'stop', 'logprobs': None}, id='run-cc3e8320-7378-4705-86e3-92f27ee5a92c-0', usage_metadata={'input_tokens': 40, 'output_tokens': 29, 'total_tokens': 69, 'input_token_details': {}, 'output_token_details': {}})}}\n"
     ]
    }
   ],
   "source": [
    "for i in graph.stream({\"messages\":\"hello what is up bro\"} , stream_mode=\"updates\"):\n",
    "    print(i)"
   ]
  },
  {
   "cell_type": "code",
   "execution_count": null,
   "id": "43eac1ce",
   "metadata": {},
   "outputs": [
    {
     "name": "stdout",
     "output_type": "stream",
     "text": [
      "{'type': 'task', 'timestamp': '2025-04-19T19:12:31.185991+00:00', 'step': 1, 'payload': {'id': 'f3e6b231-900b-af4c-cccd-45dd71844194', 'name': 'llm', 'input': {'messages': [HumanMessage(content='hello what is up bro', additional_kwargs={}, response_metadata={}, id='3e02612e-3b84-42bf-846d-09804eb217e4')]}, 'triggers': ('branch:to:llm', 'start:llm')}}\n",
      "{'type': 'task_result', 'timestamp': '2025-04-19T19:12:32.472207+00:00', 'step': 1, 'payload': {'id': 'f3e6b231-900b-af4c-cccd-45dd71844194', 'name': 'llm', 'error': None, 'result': [('messages', AIMessage(content=\"Hello. Not much, just here to help with any questions or topics you'd like to discuss. How's your day going so far?\", additional_kwargs={'refusal': None}, response_metadata={'token_usage': {'completion_tokens': 29, 'prompt_tokens': 40, 'total_tokens': 69, 'completion_tokens_details': None, 'prompt_tokens_details': None, 'cached_tokens': 0}, 'model_name': 'meta-llama/Llama-3.3-70B-Instruct-Turbo-Free', 'system_fingerprint': None, 'id': 'nqkd9cY-4Yz4kd-932eb6c3ba5ba3b1', 'finish_reason': 'stop', 'logprobs': None}, id='run-ded7d7a8-2f8c-461b-a740-b8e10be50f24-0', usage_metadata={'input_tokens': 40, 'output_tokens': 29, 'total_tokens': 69, 'input_token_details': {}, 'output_token_details': {}}))], 'interrupts': []}}\n"
     ]
    }
   ],
   "source": [
    "for i in graph.stream({\"messages\":\"hello what is up bro\"} , stream_mode=\"debug\"):\n",
    "    print(i)"
   ]
  },
  {
   "cell_type": "code",
   "execution_count": 17,
   "id": "2f066cd5",
   "metadata": {},
   "outputs": [],
   "source": [
    "for i in graph.stream({\"messages\":\"hello what is up bro\"} , stream_mode=\"custom\"):\n",
    "    print(i)"
   ]
  },
  {
   "cell_type": "code",
   "execution_count": 19,
   "id": "908b13a0",
   "metadata": {},
   "outputs": [
    {
     "name": "stdout",
     "output_type": "stream",
     "text": [
      "('values', {'messages': [HumanMessage(content='hello what is up bro', additional_kwargs={}, response_metadata={}, id='40e1b6b5-f6a0-42ad-bde9-d377a7769bee')]})\n",
      "('messages', (AIMessageChunk(content='Hello', additional_kwargs={}, response_metadata={}, id='run-2b5ad313-5f3c-480c-851e-f85669f2fa7c'), {'langgraph_step': 1, 'langgraph_node': 'llm', 'langgraph_triggers': ('branch:to:llm', 'start:llm'), 'langgraph_path': ('__pregel_pull', 'llm'), 'langgraph_checkpoint_ns': 'llm:f4c2c8fb-eeba-b87b-2a68-37103434f7c1', 'checkpoint_ns': 'llm:f4c2c8fb-eeba-b87b-2a68-37103434f7c1', 'ls_provider': 'together', 'ls_model_name': 'meta-llama/Llama-3.3-70B-Instruct-Turbo-Free', 'ls_model_type': 'chat', 'ls_temperature': None}))\n",
      "('messages', (AIMessageChunk(content='.', additional_kwargs={}, response_metadata={}, id='run-2b5ad313-5f3c-480c-851e-f85669f2fa7c'), {'langgraph_step': 1, 'langgraph_node': 'llm', 'langgraph_triggers': ('branch:to:llm', 'start:llm'), 'langgraph_path': ('__pregel_pull', 'llm'), 'langgraph_checkpoint_ns': 'llm:f4c2c8fb-eeba-b87b-2a68-37103434f7c1', 'checkpoint_ns': 'llm:f4c2c8fb-eeba-b87b-2a68-37103434f7c1', 'ls_provider': 'together', 'ls_model_name': 'meta-llama/Llama-3.3-70B-Instruct-Turbo-Free', 'ls_model_type': 'chat', 'ls_temperature': None}))\n",
      "('messages', (AIMessageChunk(content=' Not', additional_kwargs={}, response_metadata={}, id='run-2b5ad313-5f3c-480c-851e-f85669f2fa7c'), {'langgraph_step': 1, 'langgraph_node': 'llm', 'langgraph_triggers': ('branch:to:llm', 'start:llm'), 'langgraph_path': ('__pregel_pull', 'llm'), 'langgraph_checkpoint_ns': 'llm:f4c2c8fb-eeba-b87b-2a68-37103434f7c1', 'checkpoint_ns': 'llm:f4c2c8fb-eeba-b87b-2a68-37103434f7c1', 'ls_provider': 'together', 'ls_model_name': 'meta-llama/Llama-3.3-70B-Instruct-Turbo-Free', 'ls_model_type': 'chat', 'ls_temperature': None}))\n",
      "('messages', (AIMessageChunk(content=' much', additional_kwargs={}, response_metadata={}, id='run-2b5ad313-5f3c-480c-851e-f85669f2fa7c'), {'langgraph_step': 1, 'langgraph_node': 'llm', 'langgraph_triggers': ('branch:to:llm', 'start:llm'), 'langgraph_path': ('__pregel_pull', 'llm'), 'langgraph_checkpoint_ns': 'llm:f4c2c8fb-eeba-b87b-2a68-37103434f7c1', 'checkpoint_ns': 'llm:f4c2c8fb-eeba-b87b-2a68-37103434f7c1', 'ls_provider': 'together', 'ls_model_name': 'meta-llama/Llama-3.3-70B-Instruct-Turbo-Free', 'ls_model_type': 'chat', 'ls_temperature': None}))\n",
      "('messages', (AIMessageChunk(content=',', additional_kwargs={}, response_metadata={}, id='run-2b5ad313-5f3c-480c-851e-f85669f2fa7c'), {'langgraph_step': 1, 'langgraph_node': 'llm', 'langgraph_triggers': ('branch:to:llm', 'start:llm'), 'langgraph_path': ('__pregel_pull', 'llm'), 'langgraph_checkpoint_ns': 'llm:f4c2c8fb-eeba-b87b-2a68-37103434f7c1', 'checkpoint_ns': 'llm:f4c2c8fb-eeba-b87b-2a68-37103434f7c1', 'ls_provider': 'together', 'ls_model_name': 'meta-llama/Llama-3.3-70B-Instruct-Turbo-Free', 'ls_model_type': 'chat', 'ls_temperature': None}))\n",
      "('messages', (AIMessageChunk(content=' just', additional_kwargs={}, response_metadata={}, id='run-2b5ad313-5f3c-480c-851e-f85669f2fa7c'), {'langgraph_step': 1, 'langgraph_node': 'llm', 'langgraph_triggers': ('branch:to:llm', 'start:llm'), 'langgraph_path': ('__pregel_pull', 'llm'), 'langgraph_checkpoint_ns': 'llm:f4c2c8fb-eeba-b87b-2a68-37103434f7c1', 'checkpoint_ns': 'llm:f4c2c8fb-eeba-b87b-2a68-37103434f7c1', 'ls_provider': 'together', 'ls_model_name': 'meta-llama/Llama-3.3-70B-Instruct-Turbo-Free', 'ls_model_type': 'chat', 'ls_temperature': None}))\n",
      "('messages', (AIMessageChunk(content=' here', additional_kwargs={}, response_metadata={}, id='run-2b5ad313-5f3c-480c-851e-f85669f2fa7c'), {'langgraph_step': 1, 'langgraph_node': 'llm', 'langgraph_triggers': ('branch:to:llm', 'start:llm'), 'langgraph_path': ('__pregel_pull', 'llm'), 'langgraph_checkpoint_ns': 'llm:f4c2c8fb-eeba-b87b-2a68-37103434f7c1', 'checkpoint_ns': 'llm:f4c2c8fb-eeba-b87b-2a68-37103434f7c1', 'ls_provider': 'together', 'ls_model_name': 'meta-llama/Llama-3.3-70B-Instruct-Turbo-Free', 'ls_model_type': 'chat', 'ls_temperature': None}))\n",
      "('messages', (AIMessageChunk(content=' to', additional_kwargs={}, response_metadata={}, id='run-2b5ad313-5f3c-480c-851e-f85669f2fa7c'), {'langgraph_step': 1, 'langgraph_node': 'llm', 'langgraph_triggers': ('branch:to:llm', 'start:llm'), 'langgraph_path': ('__pregel_pull', 'llm'), 'langgraph_checkpoint_ns': 'llm:f4c2c8fb-eeba-b87b-2a68-37103434f7c1', 'checkpoint_ns': 'llm:f4c2c8fb-eeba-b87b-2a68-37103434f7c1', 'ls_provider': 'together', 'ls_model_name': 'meta-llama/Llama-3.3-70B-Instruct-Turbo-Free', 'ls_model_type': 'chat', 'ls_temperature': None}))\n",
      "('messages', (AIMessageChunk(content=' help', additional_kwargs={}, response_metadata={}, id='run-2b5ad313-5f3c-480c-851e-f85669f2fa7c'), {'langgraph_step': 1, 'langgraph_node': 'llm', 'langgraph_triggers': ('branch:to:llm', 'start:llm'), 'langgraph_path': ('__pregel_pull', 'llm'), 'langgraph_checkpoint_ns': 'llm:f4c2c8fb-eeba-b87b-2a68-37103434f7c1', 'checkpoint_ns': 'llm:f4c2c8fb-eeba-b87b-2a68-37103434f7c1', 'ls_provider': 'together', 'ls_model_name': 'meta-llama/Llama-3.3-70B-Instruct-Turbo-Free', 'ls_model_type': 'chat', 'ls_temperature': None}))\n",
      "('messages', (AIMessageChunk(content=' with', additional_kwargs={}, response_metadata={}, id='run-2b5ad313-5f3c-480c-851e-f85669f2fa7c'), {'langgraph_step': 1, 'langgraph_node': 'llm', 'langgraph_triggers': ('branch:to:llm', 'start:llm'), 'langgraph_path': ('__pregel_pull', 'llm'), 'langgraph_checkpoint_ns': 'llm:f4c2c8fb-eeba-b87b-2a68-37103434f7c1', 'checkpoint_ns': 'llm:f4c2c8fb-eeba-b87b-2a68-37103434f7c1', 'ls_provider': 'together', 'ls_model_name': 'meta-llama/Llama-3.3-70B-Instruct-Turbo-Free', 'ls_model_type': 'chat', 'ls_temperature': None}))\n",
      "('messages', (AIMessageChunk(content=' any', additional_kwargs={}, response_metadata={}, id='run-2b5ad313-5f3c-480c-851e-f85669f2fa7c'), {'langgraph_step': 1, 'langgraph_node': 'llm', 'langgraph_triggers': ('branch:to:llm', 'start:llm'), 'langgraph_path': ('__pregel_pull', 'llm'), 'langgraph_checkpoint_ns': 'llm:f4c2c8fb-eeba-b87b-2a68-37103434f7c1', 'checkpoint_ns': 'llm:f4c2c8fb-eeba-b87b-2a68-37103434f7c1', 'ls_provider': 'together', 'ls_model_name': 'meta-llama/Llama-3.3-70B-Instruct-Turbo-Free', 'ls_model_type': 'chat', 'ls_temperature': None}))\n",
      "('messages', (AIMessageChunk(content=' questions', additional_kwargs={}, response_metadata={}, id='run-2b5ad313-5f3c-480c-851e-f85669f2fa7c'), {'langgraph_step': 1, 'langgraph_node': 'llm', 'langgraph_triggers': ('branch:to:llm', 'start:llm'), 'langgraph_path': ('__pregel_pull', 'llm'), 'langgraph_checkpoint_ns': 'llm:f4c2c8fb-eeba-b87b-2a68-37103434f7c1', 'checkpoint_ns': 'llm:f4c2c8fb-eeba-b87b-2a68-37103434f7c1', 'ls_provider': 'together', 'ls_model_name': 'meta-llama/Llama-3.3-70B-Instruct-Turbo-Free', 'ls_model_type': 'chat', 'ls_temperature': None}))\n",
      "('messages', (AIMessageChunk(content=' or', additional_kwargs={}, response_metadata={}, id='run-2b5ad313-5f3c-480c-851e-f85669f2fa7c'), {'langgraph_step': 1, 'langgraph_node': 'llm', 'langgraph_triggers': ('branch:to:llm', 'start:llm'), 'langgraph_path': ('__pregel_pull', 'llm'), 'langgraph_checkpoint_ns': 'llm:f4c2c8fb-eeba-b87b-2a68-37103434f7c1', 'checkpoint_ns': 'llm:f4c2c8fb-eeba-b87b-2a68-37103434f7c1', 'ls_provider': 'together', 'ls_model_name': 'meta-llama/Llama-3.3-70B-Instruct-Turbo-Free', 'ls_model_type': 'chat', 'ls_temperature': None}))\n",
      "('messages', (AIMessageChunk(content=' topics', additional_kwargs={}, response_metadata={}, id='run-2b5ad313-5f3c-480c-851e-f85669f2fa7c'), {'langgraph_step': 1, 'langgraph_node': 'llm', 'langgraph_triggers': ('branch:to:llm', 'start:llm'), 'langgraph_path': ('__pregel_pull', 'llm'), 'langgraph_checkpoint_ns': 'llm:f4c2c8fb-eeba-b87b-2a68-37103434f7c1', 'checkpoint_ns': 'llm:f4c2c8fb-eeba-b87b-2a68-37103434f7c1', 'ls_provider': 'together', 'ls_model_name': 'meta-llama/Llama-3.3-70B-Instruct-Turbo-Free', 'ls_model_type': 'chat', 'ls_temperature': None}))\n",
      "('messages', (AIMessageChunk(content=' you', additional_kwargs={}, response_metadata={}, id='run-2b5ad313-5f3c-480c-851e-f85669f2fa7c'), {'langgraph_step': 1, 'langgraph_node': 'llm', 'langgraph_triggers': ('branch:to:llm', 'start:llm'), 'langgraph_path': ('__pregel_pull', 'llm'), 'langgraph_checkpoint_ns': 'llm:f4c2c8fb-eeba-b87b-2a68-37103434f7c1', 'checkpoint_ns': 'llm:f4c2c8fb-eeba-b87b-2a68-37103434f7c1', 'ls_provider': 'together', 'ls_model_name': 'meta-llama/Llama-3.3-70B-Instruct-Turbo-Free', 'ls_model_type': 'chat', 'ls_temperature': None}))\n",
      "('messages', (AIMessageChunk(content=\"'d\", additional_kwargs={}, response_metadata={}, id='run-2b5ad313-5f3c-480c-851e-f85669f2fa7c'), {'langgraph_step': 1, 'langgraph_node': 'llm', 'langgraph_triggers': ('branch:to:llm', 'start:llm'), 'langgraph_path': ('__pregel_pull', 'llm'), 'langgraph_checkpoint_ns': 'llm:f4c2c8fb-eeba-b87b-2a68-37103434f7c1', 'checkpoint_ns': 'llm:f4c2c8fb-eeba-b87b-2a68-37103434f7c1', 'ls_provider': 'together', 'ls_model_name': 'meta-llama/Llama-3.3-70B-Instruct-Turbo-Free', 'ls_model_type': 'chat', 'ls_temperature': None}))\n",
      "('messages', (AIMessageChunk(content=' like', additional_kwargs={}, response_metadata={}, id='run-2b5ad313-5f3c-480c-851e-f85669f2fa7c'), {'langgraph_step': 1, 'langgraph_node': 'llm', 'langgraph_triggers': ('branch:to:llm', 'start:llm'), 'langgraph_path': ('__pregel_pull', 'llm'), 'langgraph_checkpoint_ns': 'llm:f4c2c8fb-eeba-b87b-2a68-37103434f7c1', 'checkpoint_ns': 'llm:f4c2c8fb-eeba-b87b-2a68-37103434f7c1', 'ls_provider': 'together', 'ls_model_name': 'meta-llama/Llama-3.3-70B-Instruct-Turbo-Free', 'ls_model_type': 'chat', 'ls_temperature': None}))\n",
      "('messages', (AIMessageChunk(content=' to', additional_kwargs={}, response_metadata={}, id='run-2b5ad313-5f3c-480c-851e-f85669f2fa7c'), {'langgraph_step': 1, 'langgraph_node': 'llm', 'langgraph_triggers': ('branch:to:llm', 'start:llm'), 'langgraph_path': ('__pregel_pull', 'llm'), 'langgraph_checkpoint_ns': 'llm:f4c2c8fb-eeba-b87b-2a68-37103434f7c1', 'checkpoint_ns': 'llm:f4c2c8fb-eeba-b87b-2a68-37103434f7c1', 'ls_provider': 'together', 'ls_model_name': 'meta-llama/Llama-3.3-70B-Instruct-Turbo-Free', 'ls_model_type': 'chat', 'ls_temperature': None}))\n",
      "('messages', (AIMessageChunk(content=' discuss', additional_kwargs={}, response_metadata={}, id='run-2b5ad313-5f3c-480c-851e-f85669f2fa7c'), {'langgraph_step': 1, 'langgraph_node': 'llm', 'langgraph_triggers': ('branch:to:llm', 'start:llm'), 'langgraph_path': ('__pregel_pull', 'llm'), 'langgraph_checkpoint_ns': 'llm:f4c2c8fb-eeba-b87b-2a68-37103434f7c1', 'checkpoint_ns': 'llm:f4c2c8fb-eeba-b87b-2a68-37103434f7c1', 'ls_provider': 'together', 'ls_model_name': 'meta-llama/Llama-3.3-70B-Instruct-Turbo-Free', 'ls_model_type': 'chat', 'ls_temperature': None}))\n",
      "('messages', (AIMessageChunk(content='.', additional_kwargs={}, response_metadata={}, id='run-2b5ad313-5f3c-480c-851e-f85669f2fa7c'), {'langgraph_step': 1, 'langgraph_node': 'llm', 'langgraph_triggers': ('branch:to:llm', 'start:llm'), 'langgraph_path': ('__pregel_pull', 'llm'), 'langgraph_checkpoint_ns': 'llm:f4c2c8fb-eeba-b87b-2a68-37103434f7c1', 'checkpoint_ns': 'llm:f4c2c8fb-eeba-b87b-2a68-37103434f7c1', 'ls_provider': 'together', 'ls_model_name': 'meta-llama/Llama-3.3-70B-Instruct-Turbo-Free', 'ls_model_type': 'chat', 'ls_temperature': None}))\n",
      "('messages', (AIMessageChunk(content=' How', additional_kwargs={}, response_metadata={}, id='run-2b5ad313-5f3c-480c-851e-f85669f2fa7c'), {'langgraph_step': 1, 'langgraph_node': 'llm', 'langgraph_triggers': ('branch:to:llm', 'start:llm'), 'langgraph_path': ('__pregel_pull', 'llm'), 'langgraph_checkpoint_ns': 'llm:f4c2c8fb-eeba-b87b-2a68-37103434f7c1', 'checkpoint_ns': 'llm:f4c2c8fb-eeba-b87b-2a68-37103434f7c1', 'ls_provider': 'together', 'ls_model_name': 'meta-llama/Llama-3.3-70B-Instruct-Turbo-Free', 'ls_model_type': 'chat', 'ls_temperature': None}))\n",
      "('messages', (AIMessageChunk(content=\"'s\", additional_kwargs={}, response_metadata={}, id='run-2b5ad313-5f3c-480c-851e-f85669f2fa7c'), {'langgraph_step': 1, 'langgraph_node': 'llm', 'langgraph_triggers': ('branch:to:llm', 'start:llm'), 'langgraph_path': ('__pregel_pull', 'llm'), 'langgraph_checkpoint_ns': 'llm:f4c2c8fb-eeba-b87b-2a68-37103434f7c1', 'checkpoint_ns': 'llm:f4c2c8fb-eeba-b87b-2a68-37103434f7c1', 'ls_provider': 'together', 'ls_model_name': 'meta-llama/Llama-3.3-70B-Instruct-Turbo-Free', 'ls_model_type': 'chat', 'ls_temperature': None}))\n",
      "('messages', (AIMessageChunk(content=' your', additional_kwargs={}, response_metadata={}, id='run-2b5ad313-5f3c-480c-851e-f85669f2fa7c'), {'langgraph_step': 1, 'langgraph_node': 'llm', 'langgraph_triggers': ('branch:to:llm', 'start:llm'), 'langgraph_path': ('__pregel_pull', 'llm'), 'langgraph_checkpoint_ns': 'llm:f4c2c8fb-eeba-b87b-2a68-37103434f7c1', 'checkpoint_ns': 'llm:f4c2c8fb-eeba-b87b-2a68-37103434f7c1', 'ls_provider': 'together', 'ls_model_name': 'meta-llama/Llama-3.3-70B-Instruct-Turbo-Free', 'ls_model_type': 'chat', 'ls_temperature': None}))\n",
      "('messages', (AIMessageChunk(content=' day', additional_kwargs={}, response_metadata={}, id='run-2b5ad313-5f3c-480c-851e-f85669f2fa7c'), {'langgraph_step': 1, 'langgraph_node': 'llm', 'langgraph_triggers': ('branch:to:llm', 'start:llm'), 'langgraph_path': ('__pregel_pull', 'llm'), 'langgraph_checkpoint_ns': 'llm:f4c2c8fb-eeba-b87b-2a68-37103434f7c1', 'checkpoint_ns': 'llm:f4c2c8fb-eeba-b87b-2a68-37103434f7c1', 'ls_provider': 'together', 'ls_model_name': 'meta-llama/Llama-3.3-70B-Instruct-Turbo-Free', 'ls_model_type': 'chat', 'ls_temperature': None}))\n",
      "('messages', (AIMessageChunk(content=' going', additional_kwargs={}, response_metadata={}, id='run-2b5ad313-5f3c-480c-851e-f85669f2fa7c'), {'langgraph_step': 1, 'langgraph_node': 'llm', 'langgraph_triggers': ('branch:to:llm', 'start:llm'), 'langgraph_path': ('__pregel_pull', 'llm'), 'langgraph_checkpoint_ns': 'llm:f4c2c8fb-eeba-b87b-2a68-37103434f7c1', 'checkpoint_ns': 'llm:f4c2c8fb-eeba-b87b-2a68-37103434f7c1', 'ls_provider': 'together', 'ls_model_name': 'meta-llama/Llama-3.3-70B-Instruct-Turbo-Free', 'ls_model_type': 'chat', 'ls_temperature': None}))\n",
      "('messages', (AIMessageChunk(content=' so', additional_kwargs={}, response_metadata={}, id='run-2b5ad313-5f3c-480c-851e-f85669f2fa7c'), {'langgraph_step': 1, 'langgraph_node': 'llm', 'langgraph_triggers': ('branch:to:llm', 'start:llm'), 'langgraph_path': ('__pregel_pull', 'llm'), 'langgraph_checkpoint_ns': 'llm:f4c2c8fb-eeba-b87b-2a68-37103434f7c1', 'checkpoint_ns': 'llm:f4c2c8fb-eeba-b87b-2a68-37103434f7c1', 'ls_provider': 'together', 'ls_model_name': 'meta-llama/Llama-3.3-70B-Instruct-Turbo-Free', 'ls_model_type': 'chat', 'ls_temperature': None}))\n",
      "('messages', (AIMessageChunk(content=' far', additional_kwargs={}, response_metadata={}, id='run-2b5ad313-5f3c-480c-851e-f85669f2fa7c'), {'langgraph_step': 1, 'langgraph_node': 'llm', 'langgraph_triggers': ('branch:to:llm', 'start:llm'), 'langgraph_path': ('__pregel_pull', 'llm'), 'langgraph_checkpoint_ns': 'llm:f4c2c8fb-eeba-b87b-2a68-37103434f7c1', 'checkpoint_ns': 'llm:f4c2c8fb-eeba-b87b-2a68-37103434f7c1', 'ls_provider': 'together', 'ls_model_name': 'meta-llama/Llama-3.3-70B-Instruct-Turbo-Free', 'ls_model_type': 'chat', 'ls_temperature': None}))\n",
      "('messages', (AIMessageChunk(content='?', additional_kwargs={}, response_metadata={}, id='run-2b5ad313-5f3c-480c-851e-f85669f2fa7c'), {'langgraph_step': 1, 'langgraph_node': 'llm', 'langgraph_triggers': ('branch:to:llm', 'start:llm'), 'langgraph_path': ('__pregel_pull', 'llm'), 'langgraph_checkpoint_ns': 'llm:f4c2c8fb-eeba-b87b-2a68-37103434f7c1', 'checkpoint_ns': 'llm:f4c2c8fb-eeba-b87b-2a68-37103434f7c1', 'ls_provider': 'together', 'ls_model_name': 'meta-llama/Llama-3.3-70B-Instruct-Turbo-Free', 'ls_model_type': 'chat', 'ls_temperature': None}))\n",
      "('messages', (AIMessageChunk(content='', additional_kwargs={}, response_metadata={'finish_reason': 'stop', 'model_name': 'meta-llama/Llama-3.3-70B-Instruct-Turbo-Free'}, id='run-2b5ad313-5f3c-480c-851e-f85669f2fa7c', usage_metadata={'input_tokens': 40, 'output_tokens': 29, 'total_tokens': 69, 'input_token_details': {}, 'output_token_details': {}}), {'langgraph_step': 1, 'langgraph_node': 'llm', 'langgraph_triggers': ('branch:to:llm', 'start:llm'), 'langgraph_path': ('__pregel_pull', 'llm'), 'langgraph_checkpoint_ns': 'llm:f4c2c8fb-eeba-b87b-2a68-37103434f7c1', 'checkpoint_ns': 'llm:f4c2c8fb-eeba-b87b-2a68-37103434f7c1', 'ls_provider': 'together', 'ls_model_name': 'meta-llama/Llama-3.3-70B-Instruct-Turbo-Free', 'ls_model_type': 'chat', 'ls_temperature': None}))\n",
      "('values', {'messages': [HumanMessage(content='hello what is up bro', additional_kwargs={}, response_metadata={}, id='40e1b6b5-f6a0-42ad-bde9-d377a7769bee'), AIMessage(content=\"Hello. Not much, just here to help with any questions or topics you'd like to discuss. How's your day going so far?\", additional_kwargs={}, response_metadata={'finish_reason': 'stop', 'model_name': 'meta-llama/Llama-3.3-70B-Instruct-Turbo-Free'}, id='run-2b5ad313-5f3c-480c-851e-f85669f2fa7c', usage_metadata={'input_tokens': 40, 'output_tokens': 29, 'total_tokens': 69, 'input_token_details': {}, 'output_token_details': {}})]})\n"
     ]
    }
   ],
   "source": [
    "for i in graph.stream({\"messages\":\"hello what is up bro\"} , stream_mode=[\"values\" , \"messages\"]):\n",
    "    print(i)"
   ]
  },
  {
   "cell_type": "code",
   "execution_count": 20,
   "id": "77cfe41f",
   "metadata": {},
   "outputs": [
    {
     "name": "stdout",
     "output_type": "stream",
     "text": [
      "('values', {'messages': [HumanMessage(content='hello what is up bro', additional_kwargs={}, response_metadata={}, id='c2517b13-ac25-44df-a679-7a5e7b7e3662')]})\n",
      "('updates', {'llm': {'messages': AIMessage(content=\"Hello. Not much, just here to help with any questions or topics you'd like to discuss. What's on your mind, bro?\", additional_kwargs={'refusal': None}, response_metadata={'token_usage': {'completion_tokens': 29, 'prompt_tokens': 40, 'total_tokens': 69, 'completion_tokens_details': None, 'prompt_tokens_details': None, 'cached_tokens': 0}, 'model_name': 'meta-llama/Llama-3.3-70B-Instruct-Turbo-Free', 'system_fingerprint': None, 'id': 'nqkdh1T-4Yz4kd-932eb9581e4833a2', 'finish_reason': 'stop', 'logprobs': None}, id='run-2d468b51-38d9-4eee-8e10-d9c21d0b0a26-0', usage_metadata={'input_tokens': 40, 'output_tokens': 29, 'total_tokens': 69, 'input_token_details': {}, 'output_token_details': {}})}})\n",
      "('values', {'messages': [HumanMessage(content='hello what is up bro', additional_kwargs={}, response_metadata={}, id='c2517b13-ac25-44df-a679-7a5e7b7e3662'), AIMessage(content=\"Hello. Not much, just here to help with any questions or topics you'd like to discuss. What's on your mind, bro?\", additional_kwargs={'refusal': None}, response_metadata={'token_usage': {'completion_tokens': 29, 'prompt_tokens': 40, 'total_tokens': 69, 'completion_tokens_details': None, 'prompt_tokens_details': None, 'cached_tokens': 0}, 'model_name': 'meta-llama/Llama-3.3-70B-Instruct-Turbo-Free', 'system_fingerprint': None, 'id': 'nqkdh1T-4Yz4kd-932eb9581e4833a2', 'finish_reason': 'stop', 'logprobs': None}, id='run-2d468b51-38d9-4eee-8e10-d9c21d0b0a26-0', usage_metadata={'input_tokens': 40, 'output_tokens': 29, 'total_tokens': 69, 'input_token_details': {}, 'output_token_details': {}})]})\n"
     ]
    }
   ],
   "source": [
    "for i in graph.stream({\"messages\":\"hello what is up bro\"} , stream_mode=[\"values\" , \"updates\"]):\n",
    "    print(i)"
   ]
  },
  {
   "cell_type": "code",
   "execution_count": null,
   "id": "14a3f552",
   "metadata": {},
   "outputs": [],
   "source": []
  }
 ],
 "metadata": {
  "kernelspec": {
   "display_name": "myenv",
   "language": "python",
   "name": "python3"
  },
  "language_info": {
   "codemirror_mode": {
    "name": "ipython",
    "version": 3
   },
   "file_extension": ".py",
   "mimetype": "text/x-python",
   "name": "python",
   "nbconvert_exporter": "python",
   "pygments_lexer": "ipython3",
   "version": "3.12.3"
  }
 },
 "nbformat": 4,
 "nbformat_minor": 5
}
