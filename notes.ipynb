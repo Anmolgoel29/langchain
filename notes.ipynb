{
 "cells": [
  {
   "cell_type": "code",
   "execution_count": null,
   "metadata": {},
   "outputs": [
    {
     "data": {
      "text/plain": [
       "True"
      ]
     },
     "execution_count": 30,
     "metadata": {},
     "output_type": "execute_result"
    }
   ],
   "source": [
    "from langchain.chat_models import init_chat_model \n",
    "from langchain_core.runnables import RunnableLambda, RunnableParallel, RunnableMap\n",
    "from langchain_core.messages import AIMessage, HumanMessage, SystemMessage\n",
    "from langchain_core.prompts import ChatPromptTemplate\n",
    "from langchain.chains import LLMChain\n",
    "from dotenv import load_dotenv\n",
    "import time\n",
    "from IPython.display import display, Markdown\n",
    "load_dotenv()"
   ]
  },
  {
   "cell_type": "code",
   "execution_count": 7,
   "metadata": {},
   "outputs": [],
   "source": [
    "model = init_chat_model(model=\"deepseek/deepseek-chat-v3-0324:free\",model_provider=\"openai\") # initializing chat model"
   ]
  },
  {
   "cell_type": "code",
   "execution_count": 4,
   "metadata": {},
   "outputs": [
    {
     "name": "stdout",
     "output_type": "stream",
     "text": [
      "It looks like you're speaking **Punjabi**! The phrase **\"tussi ki kr rhe ho\"** translates to **\"What are you doing?\"** in English.  \n",
      "\n",
      "Let me know if you'd like any help or translations! \n"
     ]
    }
   ],
   "source": [
    "print(model.invoke([{\"role\":\"system\" , \"content\": \"what language do you think the user is speaking in?\"} , {\"role\": \"user\", \"content\": \"tussi ki kr rhe ho\"}]).content) # low level model prompting"
   ]
  },
  {
   "cell_type": "markdown",
   "metadata": {},
   "source": [
    "#### Runnables\n",
    "Following I give examples of usage of various types of runnables:"
   ]
  },
  {
   "cell_type": "markdown",
   "metadata": {},
   "source": [
    "- RunnableLambda: to wrap any python function into a runnable"
   ]
  },
  {
   "cell_type": "code",
   "execution_count": 5,
   "metadata": {},
   "outputs": [
    {
     "name": "stdout",
     "output_type": "stream",
     "text": [
      "Used a runnable to print \"Hello world!\"\n"
     ]
    }
   ],
   "source": [
    "def pr(text : str) -> str:\n",
    "    print(f\"Used a runnable to print {text}\")\n",
    "\n",
    "runnable = RunnableLambda(pr)\n",
    "runnable.invoke(\"\\\"Hello world!\\\"\")"
   ]
  },
  {
   "cell_type": "markdown",
   "metadata": {},
   "source": [
    "- RunnableParallel: chain various tasks to execute in parallel"
   ]
  },
  {
   "cell_type": "code",
   "execution_count": null,
   "metadata": {},
   "outputs": [
    {
     "name": "stdout",
     "output_type": "stream",
     "text": [
      "Used a runnable to print Hello World! Testing 1 2 3 ....\n",
      "7\n"
     ]
    },
    {
     "data": {
      "text/plain": [
       "{'pr': None, 'word_count': None}"
      ]
     },
     "execution_count": 6,
     "metadata": {},
     "output_type": "execute_result"
    }
   ],
   "source": [
    "def word_count_runnable(text : str) -> str:\n",
    "    print(len(text.split()))\n",
    "\n",
    "parallelRunnable = RunnableParallel(\n",
    "    pr = pr , \n",
    "    word_count = word_count_runnable\n",
    ")\n",
    "\n",
    "parallelRunnable.invoke(\"Hello World! Testing 1 2 3 ....\")\n",
    "\n",
    "# Here both the funcitons were executed parallely and whatever they returned was retured as dict by the invoke call"
   ]
  },
  {
   "cell_type": "markdown",
   "metadata": {},
   "source": [
    "- RunnableMap: same as RunnableParallel"
   ]
  },
  {
   "cell_type": "code",
   "execution_count": 7,
   "metadata": {},
   "outputs": [
    {
     "name": "stdout",
     "output_type": "stream",
     "text": [
      "Used a runnable to print whats up\n",
      "2\n"
     ]
    },
    {
     "data": {
      "text/plain": [
       "{'pr': None, 'word_count': None}"
      ]
     },
     "execution_count": 7,
     "metadata": {},
     "output_type": "execute_result"
    }
   ],
   "source": [
    "runnable = RunnableMap(\n",
    "    pr = pr,\n",
    "    word_count = word_count_runnable\n",
    ")\n",
    "\n",
    "runnable.invoke(\"whats up\")"
   ]
  },
  {
   "cell_type": "markdown",
   "metadata": {},
   "source": [
    "- Chaining various runnables "
   ]
  },
  {
   "cell_type": "code",
   "execution_count": 16,
   "metadata": {},
   "outputs": [
    {
     "name": "stdout",
     "output_type": "stream",
     "text": [
      "11\n"
     ]
    }
   ],
   "source": [
    "def add_three(num : int) -> int:\n",
    "    return num + 3\n",
    "def add_two(num : int) -> int:\n",
    "    return num + 2\n",
    "def add_one(num : int) -> int:\n",
    "    return num + 1\n",
    "\n",
    "runnable_1 = RunnableLambda(add_one)\n",
    "runnable_2 = RunnableLambda(add_two)\n",
    "runnable_3 = RunnableLambda(add_three)\n",
    "\n",
    "chain = runnable_1 | runnable_2 | runnable_3\n",
    "\n",
    "print(chain.invoke(5))"
   ]
  },
  {
   "cell_type": "markdown",
   "metadata": {},
   "source": [
    "#### Streaming : \n",
    "- Streaming is critical in making applications based on LLMs feel responsive to end-users.\n",
    "- Basically here we print the tokens one by one as we get them instead of just printing then all together at the end to keep the user enagaged"
   ]
  },
  {
   "cell_type": "code",
   "execution_count": null,
   "metadata": {},
   "outputs": [
    {
     "name": "stdout",
     "output_type": "stream",
     "text": [
      "The user is speaking in **Punjabi**, written in the Latin script (Romanized Punjabi).  \n",
      "\n",
      "Here’s the phrase in the native script (**Gurmukhi**):  \n",
      "**ਤੁਸੀਂ ਕੀ ਕਰ ਰਹੇ ਹੋ?**  \n",
      "\n",
      "*(Translation: \"What are you doing?\")*  \n",
      "\n",
      "Let me know if you'd like help with anything else! "
     ]
    }
   ],
   "source": [
    "for i in model.stream([{\"role\":\"system\" , \"content\": \"what language do you think the user is speaking in? and then write the phrase in the native script of the language\"} , {\"role\": \"user\", \"content\": \"tussi ki kr rhe ho\"}]):\n",
    "    print(i.content,end=\"\")\n",
    "    time.sleep(.1)"
   ]
  },
  {
   "cell_type": "markdown",
   "metadata": {},
   "source": [
    "#### Messages:\n",
    "Here we can pass vraious types of mesasge to llm model to get better responses"
   ]
  },
  {
   "cell_type": "code",
   "execution_count": 15,
   "metadata": {},
   "outputs": [
    {
     "data": {
      "text/markdown": [
       "I'm so sorry to hear you're feeling sad today—I'm here to help brighten your mood! Here are some fun ideas to lift your spirits:  \n",
       "\n",
       "✨ **Watch a Comfort Show/Movie**: Choose something light-hearted, funny, or nostalgic—maybe a favorite comedy or a feel-good animated film.  \n",
       "🎵 **Dance Like Nobody’s Watching**: Put on your favorite upbeat songs and have a mini dance party. Movement releases endorphins!  \n",
       "🎨 **Get Creative**: Doodle, paint, or try a simple craft. Even silly sketches can be therapeutic.  \n",
       "🌿 **Take a Nature Break**: If possible, step outside for fresh air—watch clouds, listen to birds, or feel the sunshine.  \n",
       "📖 **Read Something Uplifting**: A funny book, inspiring quotes, or happy short stories can help shift your mindset.  \n",
       "🍿 **Treat Yourself**: Make your favorite snack or try a new recipe. Comfort food (in moderation) can be a mood booster!  \n",
       "🎮 **Play a Silly Game**: Try a mobile game, puzzle, or even nostalgic childhood games for a quick distraction.  \n",
       "😂 **Watch Comedy Sketches**: YouTube or streaming platforms have great stand-up clips or funny animal videos.  \n",
       "\n",
       "Would you like something more specific—like music recommendations, a funny video link, or a short mindfulness exercise? You're not alone—I’m here to chat if you’d like! 💛"
      ],
      "text/plain": [
       "<IPython.core.display.Markdown object>"
      ]
     },
     "metadata": {},
     "output_type": "display_data"
    }
   ],
   "source": [
    "message = [\n",
    "    SystemMessage(\"You are a helpful ai chatbot whose task is to help the user in any way possible and be utmost polite with them\"),\n",
    "    HumanMessage(\"Hello how are you\"),\n",
    "    AIMessage(\"I am fine, how are you doing?\"),\n",
    "    HumanMessage(\"I am feeling sad today suggest something fun to me\")\n",
    "]\n",
    "\n",
    "display(Markdown(model.invoke(message).content))"
   ]
  },
  {
   "cell_type": "markdown",
   "metadata": {},
   "source": [
    "#### Prompt Template:\n",
    "- Most of the times the prompt we give to the ai is based on a tmeplate with multiple vairables or specific structure.\n",
    "-  We can use this runnable to best manage messages"
   ]
  },
  {
   "cell_type": "code",
   "execution_count": 46,
   "metadata": {},
   "outputs": [
    {
     "name": "stdout",
     "output_type": "stream",
     "text": [
      "Here are 10 key pointers on **equality**:\n",
      "\n",
      "1. **Equal Rights** – Every individual should have the same legal, social, and political rights, regardless of gender, race, religion, or economic status.  \n",
      "2. **Non-Discrimination** – No person should face prejudice or bias in education, employment, or public services based on identity.  \n",
      "3. **Equal Opportunities** – Everyone deserves fair access to jobs, education, healthcare, and resources to succeed.  \n",
      "4. **Gender Equality** – Men and women should have equal rights, pay, and representation in leadership roles.  \n",
      "5. **Social Justice** – Systems and policies must address historical inequalities to create a fairer society.  \n",
      "6. **Economic Equality** – Reducing wealth gaps ensures balanced growth and opportunities for all economic classes.  \n",
      "7. **Inclusion** – Diversity should be embraced, ensuring marginalized groups (LGBTQ+, disabled, minorities) are represented.  \n",
      "8. **Equal Before the Law** – Justice systems must treat all individuals fairly, without favoritism or bias.  \n",
      "9. **Education on Equality** – Awareness and sensitization programs help combat stereotypes and promote fairness.  \n",
      "10. **Global Equity** – Developed nations should support developing countries to reduce global inequalities in resources and opportunities.  \n",
      "\n",
      "Would you like a deeper elaboration on any of these points?"
     ]
    }
   ],
   "source": [
    "systemTemplate = \"You are a helpful assitant chatbot to assist the user in any way possible\"\n",
    "\n",
    "prompt = ChatPromptTemplate.from_messages(\n",
    "    [\n",
    "        (\"system\" , systemTemplate) , \n",
    "        (\"user\" , \"{text}\")\n",
    "    ]\n",
    ")\n",
    "\n",
    "chain = LLMChain(prompt = prompt , llm = model)\n",
    "\n",
    "for i in chain.stream(\"write 10 pointers on equality\"): # sop this shows that we can't easily stream the output in a chain\n",
    "    print(i['text'] , end=\"\",flush=True)"
   ]
  },
  {
   "cell_type": "code",
   "execution_count": 42,
   "metadata": {},
   "outputs": [
    {
     "name": "stdout",
     "output_type": "stream",
     "text": [
      "Certainly! Here are 10 key pointers on **equality**:  \n",
      "\n",
      "1. **Equal Rights** – Everyone deserves the same fundamental rights and freedoms, regardless of gender, race, religion, or background.  \n",
      "\n",
      "2. **No Discrimination** – Equality means treating people fairly without bias or prejudice based on identity, caste, or economic status.  \n",
      "\n",
      "3. **Equal Opportunities** – Access to education, jobs, and healthcare should be available to all without unfair barriers.  \n",
      "\n",
      "4. **Gender Equality** – Equal treatment and representation for all genders in workplaces, leadership, and households.  \n",
      "\n",
      "5. **Legal Equality** – The law should protect all individuals equally and ensure justice without favoritism.  \n",
      "\n",
      "6. **Intersectionality** – Recognizing that discrimination can overlap (e.g., race + gender + class) strengthens efforts toward true equality.  \n",
      "\n",
      "7. **Fair Pay & Representation** – Equal pay for equal work and proportional representation in decision-making bodies.  \n",
      "\n",
      "8. **Social Inclusion** – Every individual should have the opportunity to participate fully in social, economic, and political life.  \n",
      "\n",
      "9. **Education & Awareness** – Promoting awareness about biases and stereotypes fosters a more inclusive mindset.  \n",
      "\n",
      "10. **Global Effort** – Equality requires cooperation across governments, institutions, and communities to ensure systemic change.  \n",
      "\n",
      "Would you like me to elaborate on any of these points?"
     ]
    }
   ],
   "source": [
    "for i in model.stream(prompt.invoke(\"write 10 pointers on equality\")):\n",
    "    print(i.content, end=\"\",flush=True)"
   ]
  },
  {
   "cell_type": "code",
   "execution_count": null,
   "metadata": {},
   "outputs": [],
   "source": []
  }
 ],
 "metadata": {
  "kernelspec": {
   "display_name": "myenv",
   "language": "python",
   "name": "python3"
  },
  "language_info": {
   "codemirror_mode": {
    "name": "ipython",
    "version": 3
   },
   "file_extension": ".py",
   "mimetype": "text/x-python",
   "name": "python",
   "nbconvert_exporter": "python",
   "pygments_lexer": "ipython3",
   "version": "3.12.3"
  }
 },
 "nbformat": 4,
 "nbformat_minor": 2
}
