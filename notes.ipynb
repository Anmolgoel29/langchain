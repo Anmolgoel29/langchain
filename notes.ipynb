{
 "cells": [
  {
   "cell_type": "code",
   "execution_count": 6,
   "metadata": {},
   "outputs": [],
   "source": [
    "from keys import DEEP_SEEK_TEST_KEY  ## Way of concealing api key form VCS like git\n",
    "from langchain.llms import OpenAI  ## Simpler way of just getting paragraph responses against singular prompts with no past memory\n",
    "from langchain_openai import ChatOpenAI ## Better method for seding sofisticated prompts and best suited for chatbots, RAG etc, because of past memory of the conversation\n",
    "import os ## for setting environment variables"
   ]
  },
  {
   "cell_type": "markdown",
   "metadata": {},
   "source": [
    "### Setting environment variables\n",
    "They are basically api keys of the llm models."
   ]
  },
  {
   "cell_type": "code",
   "execution_count": 2,
   "metadata": {},
   "outputs": [],
   "source": [
    "os.environ[\"OPENAI_API_KEY\"] = DEEP_SEEK_TEST_KEY\n",
    "os.environ[\"OPENAI_API_BASE\"] = \"https://openrouter.ai/api/v1\" # Since we are using deepseek free version here we have to use openrouter.ai platform and for that we need to set this environment variable"
   ]
  },
  {
   "cell_type": "markdown",
   "metadata": {},
   "source": [
    "### Initializing the model and testing"
   ]
  },
  {
   "cell_type": "code",
   "execution_count": 7,
   "metadata": {},
   "outputs": [],
   "source": [
    "llm = ChatOpenAI(\n",
    "    model_name=\"deepseek/deepseek-chat-v3-0324:free\",  # Choose a DeepSeek model\n",
    "    temperature=0.7, # This is a metric which sets how random and creative answers the llm gives (0-1 range)\n",
    ")"
   ]
  },
  {
   "cell_type": "code",
   "execution_count": null,
   "metadata": {},
   "outputs": [],
   "source": [
    "response = llm.invoke(f\"You are an english teacher. Consider the following conversation between two of your students and access in which areas of grammer they are lagging behind: {conversation} \\n also tell which of them is lagging behind some quick topics for them to study on\")\n",
    "\n",
    "print(response)"
   ]
  }
 ],
 "metadata": {
  "kernelspec": {
   "display_name": "myenv",
   "language": "python",
   "name": "python3"
  },
  "language_info": {
   "codemirror_mode": {
    "name": "ipython",
    "version": 3
   },
   "file_extension": ".py",
   "mimetype": "text/x-python",
   "name": "python",
   "nbconvert_exporter": "python",
   "pygments_lexer": "ipython3",
   "version": "3.12.3"
  }
 },
 "nbformat": 4,
 "nbformat_minor": 2
}
