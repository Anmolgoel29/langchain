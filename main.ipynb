{
 "cells": [
  {
   "cell_type": "code",
   "execution_count": 8,
   "metadata": {},
   "outputs": [],
   "source": [
    "from keys import SOlVE_EASE_OPENAI_KEY,DEEP_SEEK_TEST_KEY\n",
    "from openai import OpenAI\n",
    "import os"
   ]
  },
  {
   "cell_type": "code",
   "execution_count": 23,
   "metadata": {},
   "outputs": [
    {
     "name": "stdout",
     "output_type": "stream",
     "text": [
      "Ram: Shyam, did you bring your football?\n",
      "Shyam: Oh no! I must forgot it at home.\n",
      "Ram: No problem, we can play something else. What do you want to do?\n",
      "Shyam: We should go to the playground. We may find something fun there.\n",
      "Ram: Good idea! But it might be crowded now.\n",
      "Shyam: It must not be. It is a weekday, so fewer people comes.\n",
      "Ram: Hmm, maybe. Oh look, there’s a swing!\n",
      "Shyam: I will can push you if you want!\n",
      "Ram: Haha, let’s take turns.\n",
      "Shyam: Okay! But we must not take too long, or others will wait.\n",
      "Ram: Yeah, let’s go after five minutes.\n",
      "Shyam: Yes, I shall not waste time!\n",
      "content='Here’s an analysis of the grammatical errors in the conversation and which student (Ram or Shyam) needs improvement in specific areas. I’ll also suggest quick topics for them to study.  \\n\\n### **Grammatical Errors and Areas of Improvement:**  \\n\\n#### **Shyam’s Errors:**  \\n1. **Modal Verb Misuse:**  \\n   - *\"I must forgot it at home.\"* → Incorrect use of \"must.\" Should be: *\"I must **have forgotten** it at home.\"* (Past obligation)  \\n   - *\"It must not be.\"* → Incorrect for probability. Should be: *\"It **might not** be.\"* (Possibility)  \\n   - *\"I will can push you...\"* → Double modal error. Should be: *\"I **can** push you...\"*  \\n\\n2. **Subject-Verb Agreement:**  \\n   - *\"Fewer people **comes**.\"* → Should be: *\"Fewer people **come**.\"*  \\n\\n3. **Incorrect Use of \"Shall\":**  \\n   - *\"I shall not waste time!\"* → \"Shall\" is overly formal here. *\"I **won’t** waste time!\"* sounds more natural.  \\n\\n#### **Ram’s Errors:**  \\nRam’s sentences are mostly correct, but he could improve in:  \\n1. **Natural Phrasing:**  \\n   - *\"Hmm, maybe.\"* → Grammatically correct but could be more natural with *\"Hmm, maybe so.\"* (Minor issue)  \\n\\n### **Quick Topics to Study:**  \\n#### **For Shyam:**  \\n1. **Modal Verbs (must, might, can, will):**  \\n   - When to use *must* (obligation) vs. *must have* (past deduction).  \\n   - Difference between *must not* (prohibition) and *might not* (possibility).  \\n   - Avoiding double modals (*\"will can\" → \"can\"*).  \\n\\n2. **Subject-Verb Agreement:**  \\n   - Plural subjects (*people, they, we*) take plural verbs (*come, are*).  \\n\\n3. **\"Shall\" vs. \"Will\":**  \\n   - \"Shall\" is formal and rare in modern speech; \"will\" is more natural.  \\n\\n#### **For Ram:**  \\n1. **Conversational Fluency:**  \\n   - Practicing more natural responses (e.g., *\"Yeah, probably.\"* instead of just *\"Hmm, maybe.\"*).  \\n\\n### **Conclusion:**  \\n- **Shyam** needs more work on **modal verbs, subject-verb agreement, and natural phrasing**.  \\n- **Ram** is mostly correct but could refine his **conversational flow**.  \\n\\n**Suggested Exercises:**  \\n- Shyam: Practice rewriting sentences with correct modals.  \\n- Both: Role-play natural dialogues to improve fluency.  \\n\\nWould you like specific exercises for them?' additional_kwargs={} response_metadata={'token_usage': {'completion_tokens': 619, 'prompt_tokens': 257, 'total_tokens': 876, 'completion_tokens_details': None, 'prompt_tokens_details': None}, 'model_name': 'deepseek/deepseek-chat-v3-0324:free', 'system_fingerprint': None, 'finish_reason': 'stop', 'logprobs': None} id='run-60bcbe2c-03eb-4f35-8944-8cf884a77055-0'\n"
     ]
    }
   ],
   "source": [
    "os.environ['OPENAI_API_KEY'] = DEEP_SEEK_TEST_KEY\n",
    "os.environ[\"OPENAI_API_BASE\"] = \"https://openrouter.ai/api/v1\"\n",
    "\n",
    "from langchain.chat_models import ChatOpenAI\n",
    "\n",
    "# Use DeepSeek model via OpenRouter\n",
    "llm = ChatOpenAI(\n",
    "    model_name=\"deepseek/deepseek-chat-v3-0324:free\",  # Choose a DeepSeek model\n",
    "    temperature=0.7,\n",
    ")\n",
    "\n",
    "conversation = [\n",
    "    (\"Ram\", \"Shyam, did you bring your football?\"),\n",
    "    (\"Shyam\", \"Oh no! I must forgot it at home.\"),\n",
    "    (\"Ram\", \"No problem, we can play something else. What do you want to do?\"),\n",
    "    (\"Shyam\", \"We should go to the playground. We may find something fun there.\"),\n",
    "    (\"Ram\", \"Good idea! But it might be crowded now.\"),\n",
    "    (\"Shyam\", \"It must not be. It is a weekday, so fewer people comes.\"),\n",
    "    (\"Ram\", \"Hmm, maybe. Oh look, there’s a swing!\"),\n",
    "    (\"Shyam\", \"I will can push you if you want!\"),\n",
    "    (\"Ram\", \"Haha, let’s take turns.\"),\n",
    "    (\"Shyam\", \"Okay! But we must not take too long, or others will wait.\"),\n",
    "    (\"Ram\", \"Yeah, let’s go after five minutes.\"),\n",
    "    (\"Shyam\", \"Yes, I shall not waste time!\")\n",
    "]\n",
    "\n",
    "for speaker, line in conversation:\n",
    "    print(f\"{speaker}: {line}\")\n",
    "\n",
    "\n",
    "# Run a query\n",
    "response = llm.invoke(f\"You are an english teacher. Consider the following conversation between two of your students and access in which areas of grammer they are lagging behind: {conversation} \\n also tell which of them is lagging behind some quick topics for them to study on\")\n",
    "\n",
    "print(response)\n"
   ]
  },
  {
   "cell_type": "code",
   "execution_count": 24,
   "metadata": {},
   "outputs": [
    {
     "name": "stdout",
     "output_type": "stream",
     "text": [
      "Here’s an analysis of the grammatical errors in the conversation and which student (Ram or Shyam) needs improvement in specific areas. I’ll also suggest quick topics for them to study.  \n",
      "\n",
      "### **Grammatical Errors and Areas of Improvement:**  \n",
      "\n",
      "#### **Shyam’s Errors:**  \n",
      "1. **Modal Verb Misuse:**  \n",
      "   - *\"I must forgot it at home.\"* → Incorrect use of \"must.\" Should be: *\"I must **have forgotten** it at home.\"* (Past obligation)  \n",
      "   - *\"It must not be.\"* → Incorrect for probability. Should be: *\"It **might not** be.\"* (Possibility)  \n",
      "   - *\"I will can push you...\"* → Double modal error. Should be: *\"I **can** push you...\"*  \n",
      "\n",
      "2. **Subject-Verb Agreement:**  \n",
      "   - *\"Fewer people **comes**.\"* → Should be: *\"Fewer people **come**.\"*  \n",
      "\n",
      "3. **Incorrect Use of \"Shall\":**  \n",
      "   - *\"I shall not waste time!\"* → \"Shall\" is overly formal here. *\"I **won’t** waste time!\"* sounds more natural.  \n",
      "\n",
      "#### **Ram’s Errors:**  \n",
      "Ram’s sentences are mostly correct, but he could improve in:  \n",
      "1. **Natural Phrasing:**  \n",
      "   - *\"Hmm, maybe.\"* → Grammatically correct but could be more natural with *\"Hmm, maybe so.\"* (Minor issue)  \n",
      "\n",
      "### **Quick Topics to Study:**  \n",
      "#### **For Shyam:**  \n",
      "1. **Modal Verbs (must, might, can, will):**  \n",
      "   - When to use *must* (obligation) vs. *must have* (past deduction).  \n",
      "   - Difference between *must not* (prohibition) and *might not* (possibility).  \n",
      "   - Avoiding double modals (*\"will can\" → \"can\"*).  \n",
      "\n",
      "2. **Subject-Verb Agreement:**  \n",
      "   - Plural subjects (*people, they, we*) take plural verbs (*come, are*).  \n",
      "\n",
      "3. **\"Shall\" vs. \"Will\":**  \n",
      "   - \"Shall\" is formal and rare in modern speech; \"will\" is more natural.  \n",
      "\n",
      "#### **For Ram:**  \n",
      "1. **Conversational Fluency:**  \n",
      "   - Practicing more natural responses (e.g., *\"Yeah, probably.\"* instead of just *\"Hmm, maybe.\"*).  \n",
      "\n",
      "### **Conclusion:**  \n",
      "- **Shyam** needs more work on **modal verbs, subject-verb agreement, and natural phrasing**.  \n",
      "- **Ram** is mostly correct but could refine his **conversational flow**.  \n",
      "\n",
      "**Suggested Exercises:**  \n",
      "- Shyam: Practice rewriting sentences with correct modals.  \n",
      "- Both: Role-play natural dialogues to improve fluency.  \n",
      "\n",
      "Would you like specific exercises for them?\n"
     ]
    }
   ],
   "source": [
    "print(response.content)"
   ]
  },
  {
   "cell_type": "code",
   "execution_count": 13,
   "metadata": {},
   "outputs": [
    {
     "name": "stdout",
     "output_type": "stream",
     "text": [
      "1. Your brilliance shines like a sunbeam, lighting up every room with warmth and wisdom.  \n",
      "2. Your kindness and strength inspire everyone lucky enough to know you.  \n",
      "3. The world is brighter, bolder, and better because you’re in it—never doubt your incredible impact!  \n",
      "\n",
      "Keep being amazing! ✨\n"
     ]
    }
   ],
   "source": [
    "completion = llm.chat.completions.create(\n",
    "  extra_headers={\n",
    "    \"HTTP-Referer\": \"<YOUR_SITE_URL>\", # Optional. Site URL for rankings on openrouter.ai.\n",
    "    \"X-Title\": \"<YOUR_SITE_NAME>\", # Optional. Site title for rankings on openrouter.ai.\n",
    "  },\n",
    "  extra_body={},\n",
    "  model=\"deepseek/deepseek-chat-v3-0324:free\",\n",
    "  messages=[\n",
    "    {\n",
    "      \"role\": \"user\",\n",
    "      \"content\": \"give 3 lines to praise me\"\n",
    "    }\n",
    "  ]\n",
    ")\n",
    "print(completion.choices[0].message.content)\n"
   ]
  },
  {
   "cell_type": "code",
   "execution_count": null,
   "metadata": {},
   "outputs": [],
   "source": [
    "\n"
   ]
  },
  {
   "cell_type": "markdown",
   "metadata": {},
   "source": []
  }
 ],
 "metadata": {
  "kernelspec": {
   "display_name": "myenv",
   "language": "python",
   "name": "python3"
  },
  "language_info": {
   "codemirror_mode": {
    "name": "ipython",
    "version": 3
   },
   "file_extension": ".py",
   "mimetype": "text/x-python",
   "name": "python",
   "nbconvert_exporter": "python",
   "pygments_lexer": "ipython3",
   "version": "3.12.3"
  }
 },
 "nbformat": 4,
 "nbformat_minor": 2
}
