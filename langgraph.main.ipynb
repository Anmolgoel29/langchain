{
 "cells": [
  {
   "cell_type": "code",
   "execution_count": 45,
   "metadata": {},
   "outputs": [
    {
     "data": {
      "text/plain": [
       "True"
      ]
     },
     "execution_count": 45,
     "metadata": {},
     "output_type": "execute_result"
    }
   ],
   "source": [
    "from dotenv import load_dotenv\n",
    "from langgraph.graph import StateGraph, START, END\n",
    "from typing import TypedDict\n",
    "from typing_extensions import Annotated\n",
    "from langgraph.graph.message import add_messages\n",
    "from langchain_core.messages import AIMessage, HumanMessage, SystemMessage\n",
    "from langchain.chat_models import init_chat_model\n",
    "\n",
    "load_dotenv()"
   ]
  },
  {
   "cell_type": "markdown",
   "metadata": {},
   "source": [
    "Now creating a staate class for the graph"
   ]
  },
  {
   "cell_type": "code",
   "execution_count": 46,
   "metadata": {},
   "outputs": [],
   "source": [
    "class State(TypedDict):\n",
    "    messages : Annotated[list, add_messages]\n",
    "\n",
    "\n",
    "graph_builder = StateGraph(State)"
   ]
  },
  {
   "cell_type": "markdown",
   "metadata": {},
   "source": [
    "Now creating a LLM node"
   ]
  },
  {
   "cell_type": "code",
   "execution_count": null,
   "metadata": {},
   "outputs": [
    {
     "data": {
      "text/plain": [
       "<langgraph.graph.state.StateGraph at 0x7264fc245640>"
      ]
     },
     "execution_count": 47,
     "metadata": {},
     "output_type": "execute_result"
    }
   ],
   "source": [
    "model = init_chat_model(model=\"deepseek/deepseek-chat-v3-0324:free\" , model_provider=\"openai\")\n",
    "\n",
    "def llm(state: State):\n",
    "    # print(state[\"messages\"])\n",
    "    return {\"messages\": model.invoke(state[\"messages\"])}\n",
    "\n",
    "graph_builder.add_node(\"llm\" , llm)\n",
    "\n",
    "graph_builder.add_edge(START , \"llm\")\n",
    "graph_builder.add_edge(\"llm\" , END)"
   ]
  },
  {
   "cell_type": "code",
   "execution_count": 49,
   "metadata": {},
   "outputs": [
    {
     "name": "stdout",
     "output_type": "stream",
     "text": [
      "[HumanMessage(content='Hello what are you up to', additional_kwargs={}, response_metadata={}, id='db992594-0494-4f7a-921b-c6e1d8a50ce1')]\n"
     ]
    },
    {
     "data": {
      "text/plain": [
       "[HumanMessage(content='Hello what are you up to', additional_kwargs={}, response_metadata={}, id='db992594-0494-4f7a-921b-c6e1d8a50ce1'),\n",
       " AIMessage(content=\"Hello! 😊 I'm just here, ready to help with whatever you need—answering questions, chatting, or offering advice. What can I do for you today?  \\n\\n(Also, random fun fact: Did you know bees communicate by dancing? 🐝💃)  \\n\\nWhat’s on your mind? 😄\", additional_kwargs={'refusal': None}, response_metadata={'token_usage': {'completion_tokens': 68, 'prompt_tokens': 9, 'total_tokens': 77, 'completion_tokens_details': None, 'prompt_tokens_details': None}, 'model_name': 'deepseek/deepseek-chat-v3-0324', 'system_fingerprint': None, 'id': 'gen-1744040991-L3h9xcREdMfr14sjM2T3', 'finish_reason': 'stop', 'logprobs': None}, id='run-348e0cf4-f8c9-4201-b7cb-6ed71ed47c44-0', usage_metadata={'input_tokens': 9, 'output_tokens': 68, 'total_tokens': 77, 'input_token_details': {}, 'output_token_details': {}})]"
      ]
     },
     "execution_count": 49,
     "metadata": {},
     "output_type": "execute_result"
    }
   ],
   "source": [
    "graph = graph_builder.compile()\n",
    "\n",
    "graph.invoke({\n",
    "    \"messages\" :[\n",
    "        {\n",
    "            \"role\" : \"user\",\n",
    "            \"content\" : \"Hello what are you up to\"\n",
    "        },\n",
    "    ]\n",
    "}\n",
    ")[\"messages\"]"
   ]
  },
  {
   "cell_type": "code",
   "execution_count": null,
   "metadata": {},
   "outputs": [],
   "source": []
  }
 ],
 "metadata": {
  "kernelspec": {
   "display_name": "myenv",
   "language": "python",
   "name": "python3"
  },
  "language_info": {
   "codemirror_mode": {
    "name": "ipython",
    "version": 3
   },
   "file_extension": ".py",
   "mimetype": "text/x-python",
   "name": "python",
   "nbconvert_exporter": "python",
   "pygments_lexer": "ipython3",
   "version": "3.12.3"
  }
 },
 "nbformat": 4,
 "nbformat_minor": 2
}
