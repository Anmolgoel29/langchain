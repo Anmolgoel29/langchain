{
 "cells": [
  {
   "cell_type": "code",
   "execution_count": 2,
   "metadata": {},
   "outputs": [],
   "source": [
    "from typing import Annotated\n",
    "from typing_extensions import TypedDict\n",
    "from langgraph.graph import StateGraph, START, END\n",
    "from langgraph.graph.message import add_messages\n",
    "import asyncio"
   ]
  },
  {
   "cell_type": "code",
   "execution_count": 3,
   "metadata": {},
   "outputs": [],
   "source": [
    "def msg_add(msg1 : list,msg2):\n",
    "    print(msg1,msg2,sep=\", \\n\")\n",
    "    temp = msg2+msg1\n",
    "    print(temp)\n",
    "    return temp\n",
    "\n",
    "class State(TypedDict): # create a type bound dictionary type \n",
    "\n",
    "    messages : Annotated[list , add_messages] # create a key in the dict type with additional metadata added using Annotated\n",
    "    # This basically means that it instructs langgraph to update message using the add_message function\n",
    "    # function like add_message are called reducers\n",
    "\n",
    "graph = StateGraph(State)"
   ]
  },
  {
   "cell_type": "markdown",
   "metadata": {},
   "source": [
    "Now our chatbot can do two key things:\n",
    "- Each node can take the state variable as input and output an update to the state variable\n",
    "- Every time a node updates the message list of the state variable the messages are appended instead of just overwriting over the previous messages."
   ]
  },
  {
   "cell_type": "code",
   "execution_count": 4,
   "metadata": {},
   "outputs": [
    {
     "data": {
      "text/plain": [
       "<langgraph.graph.state.StateGraph at 0x7da9d1024f20>"
      ]
     },
     "execution_count": 4,
     "metadata": {},
     "output_type": "execute_result"
    }
   ],
   "source": [
    "from langchain.chat_models import init_chat_model\n",
    "from dotenv import load_dotenv\n",
    "load_dotenv()\n",
    "\n",
    "model  = init_chat_model(model=\"deepseek/deepseek-chat-v3-0324:free\" , model_provider=\"openai\")\n",
    "\n",
    "# creating the node function\n",
    "def llm(state: State):\n",
    "    return {\"messages\" : model.invoke(state[\"messages\"])}\n",
    "\n",
    "# adding the node \n",
    "# the first argument is the unique node name \n",
    "# second argument is the callback function whenever the node is called\n",
    "graph.add_node(\"llm\" , llm)"
   ]
  },
  {
   "cell_type": "code",
   "execution_count": 5,
   "metadata": {},
   "outputs": [
    {
     "data": {
      "text/plain": [
       "<langgraph.graph.state.StateGraph at 0x7da9d1024f20>"
      ]
     },
     "execution_count": 5,
     "metadata": {},
     "output_type": "execute_result"
    }
   ],
   "source": [
    "graph.add_edge(START , \"llm\") # tell the graph where to start \n",
    "graph.add_edge(\"llm\" ,END) # tell the graph where to end i.e. anytime this node is run you can exit"
   ]
  },
  {
   "cell_type": "code",
   "execution_count": 6,
   "metadata": {},
   "outputs": [],
   "source": [
    "compiledGraph = graph.compile() # compile the whole graph to use invoke in the script"
   ]
  },
  {
   "cell_type": "markdown",
   "metadata": {},
   "source": [
    "#### Now building the chatbot"
   ]
  },
  {
   "cell_type": "code",
   "execution_count": 7,
   "metadata": {},
   "outputs": [
    {
     "name": "stdout",
     "output_type": "stream",
     "text": [
      "Assistant:  The year **2019** was a significant and eventful year globally, marked by political upheavals, technological advancements, environmental concerns, cultural milestones, and public health developments. Here’s an overview of key events and trends:\n",
      "\n",
      "### **Politics & Global Affairs**  \n",
      "- **Brexit turmoil**: The UK faced ongoing political chaos after failing to leave the EU by the initial March 29 deadline. Prime Minister **Theresa May resigned**, and **Boris Johnson** took over, pushing for a hard Brexit.  \n",
      "- **Hong Kong protests**: Massive pro-democracy demonstrations erupted in **Hong Kong** over an extradition bill, leading to violent clashes with police.  \n",
      "- **Trade wars**: The **U.S.-China trade war** escalated with tariffs and tensions, affecting global markets.  \n",
      "- **Impeachment of Donald Trump**: The U.S. House of Representatives initiated impeachment proceedings against President Trump over allegations of pressuring Ukraine for political favors.  \n",
      "- **Sudanese revolution**: Protests led to the ousting of longtime dictator **Omar al-Bashir**.  \n",
      "\n",
      "### **Technology & Science**  \n",
      "- **First-ever black hole image**: Scientists captured an image of **Messier 87’s supermassive black hole** using the Event Horizon Telescope.  \n",
      "- **5G rollout commenced**: Countries began deploying next-gen **5G networks**, sparking debates over security (especially regarding Chinese tech giant **Huawei**).  \n",
      "- **AI advances**: OpenAI released **GPT-2**, an early version of its powerful language model, showing rapid progress in AI-generated text.  \n",
      "- **SpaceX’s Starship prototype**: Elon Musk unveiled plans for **Starship**, a next-gen spacecraft aimed at Mars missions.  \n",
      "\n",
      "### **Environmental Issues & Disasters**  \n",
      "- **Climate activism surged**: **Greta Thunberg** became a global icon, leading the **Fridays for Future** school strikes.  \n",
      "- **Amazon rainforest wildfires**: Massive fires in the Brazilian Amazon alarmed the world, prompting international outcry.  \n",
      "- **Australia’s bushfires**: Late 2019 saw devastating bushfires that would intensify into early 2020.  \n",
      "- **Typhoon Hagibis**: Japan faced one of its worst typhoons in decades, causing widespread destruction.  \n",
      "\n",
      "### **Economy & Business**  \n",
      "- **WeWork’s dramatic collapse**: The co-working giant canceled its IPO after major financial concerns and leadership controversies.  \n",
      "- **Uber & Lyft IPOs**: Ride-hailing companies went public, though with shaky starts.  \n",
      "- **Bitcoin’s volatility**: After plunging in 2018, Bitcoin saw a partial recovery (reaching around **$13,000**) before another dip.  \n",
      "\n",
      "### **Pop Culture & Entertainment**  \n",
      "- **Avengers: Endgame** became the **highest-grossing film ever** (until **Avatar** briefly reclaimed the title in 2021).  \n",
      "- **Game of Thrones finale**: The divisive end to HBO’s hit series sparked debates among fans.  \n",
      "- **TikTok’s explosive growth**: The Chinese-owned video app surged in popularity globally.  \n",
      "- **‘Old Town Road’ dominated**: Lil Nas X’s country-trap hit spent a record **19 weeks at #1** on the Billboard Hot 100.  \n",
      "\n",
      "### **Health & Pandemics**  \n",
      "- **Measles outbreaks**: Anti-vaccine movements contributed to **resurgences in measles** in the U.S. and Europe.  \n",
      "- **E-cigarette concerns**: Vaping-related lung illnesses (EVALI) raised alarms about e-cigarette safety.  \n",
      "- **Early warnings about COVID-19**: In December, reports emerged of a mysterious pneumonia cluster in **Wuhan, China**, hinting at what would become the **COVID-19 pandemic** in 2020.  \n",
      "\n",
      "### **Sports**  \n",
      "- **Liverpool’s Champions League win**: Defeated Tottenham in an all-English final.  \n",
      "- **U.S. Women’s Soccer World Cup**: The **U.S. team won**, with Megan Rapinoe becoming a global star.  \n",
      "- **Tiger Woods’ comeback**: Won the **Masters Tournament**, his first major victory in 11 years.  \n",
      "\n",
      "### **Notable Deaths**  \n",
      "- **Nipsey Hussle** (rapper, murdered)  \n",
      "- **Doris Day** (Hollywood legend)  \n",
      "- **Karl Lagerfeld** (fashion icon)  \n",
      "- **Anthoine Hubert** (Formula 2 driver, fatal crash)  \n",
      "\n",
      "### **Conclusion**  \n",
      "2019 was a year of **rising tensions**, technological leaps, environmental activism, and pre-pandemic normalcy. Many events set the stage for the turbulent decade ahead, particularly with early hints of the COVID-19 crisis that would soon engulf the world.  \n",
      "\n",
      "Would you like a deeper dive into any specific area?\n"
     ]
    }
   ],
   "source": [
    "while True:\n",
    "    user_inp = input(\"User: \")\n",
    "    if not user_inp == \"q\":\n",
    "        output = compiledGraph.invoke({\n",
    "            \"messages\" : \n",
    "                {\n",
    "                    \"role\": \"user\",\n",
    "                    \"content\": user_inp\n",
    "                },\n",
    "            }\n",
    "        )[\"messages\"][-1].content\n",
    "        print( \"Assistant: \", output, flush=True)\n",
    "    else:\n",
    "        break\n",
    "        "
   ]
  },
  {
   "cell_type": "code",
   "execution_count": null,
   "metadata": {},
   "outputs": [],
   "source": []
  }
 ],
 "metadata": {
  "kernelspec": {
   "display_name": "myenv",
   "language": "python",
   "name": "python3"
  },
  "language_info": {
   "codemirror_mode": {
    "name": "ipython",
    "version": 3
   },
   "file_extension": ".py",
   "mimetype": "text/x-python",
   "name": "python",
   "nbconvert_exporter": "python",
   "pygments_lexer": "ipython3",
   "version": "3.12.3"
  }
 },
 "nbformat": 4,
 "nbformat_minor": 2
}
