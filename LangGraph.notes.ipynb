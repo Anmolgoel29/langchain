{
 "cells": [
  {
   "cell_type": "code",
   "execution_count": 1,
   "metadata": {},
   "outputs": [],
   "source": [
    "from typing import Annotated\n",
    "from typing_extensions import TypedDict\n",
    "from langgraph.graph import StateGraph, START, END\n",
    "from langgraph.graph.message import add_messages\n",
    "import asyncio"
   ]
  },
  {
   "cell_type": "code",
   "execution_count": 12,
   "metadata": {},
   "outputs": [],
   "source": [
    "class State(TypedDict): # create a type bound dictionary type \n",
    "\n",
    "    messages : Annotated[list , add_messages(format=\"langchain-openai\")] # create a key in the dict type with additional metadata added using Annotated\n",
    "    # This basically means that it instructs langgraph to update message using the add_message function\n",
    "    # function like add_message are called reducers\n",
    "\n",
    "graph = StateGraph(State)"
   ]
  },
  {
   "cell_type": "markdown",
   "metadata": {},
   "source": [
    "Now our chatbot can do two key things:\n",
    "- Each node can take the state variable as input and output an update to the state variable\n",
    "- Every time a node updates the message list of the state variable the messages are appended instead of just overwriting over the previous messages."
   ]
  },
  {
   "cell_type": "code",
   "execution_count": 3,
   "metadata": {},
   "outputs": [
    {
     "data": {
      "text/plain": [
       "<langgraph.graph.state.StateGraph at 0x7197d9406f60>"
      ]
     },
     "execution_count": 3,
     "metadata": {},
     "output_type": "execute_result"
    }
   ],
   "source": [
    "from langchain.chat_models import init_chat_model\n",
    "from dotenv import load_dotenv\n",
    "load_dotenv()\n",
    "\n",
    "model  = init_chat_model(model=\"deepseek/deepseek-chat-v3-0324:free\" , model_provider=\"openai\")\n",
    "\n",
    "# creating the node function\n",
    "def llm(state: State):\n",
    "    return {\"messages\" : [model.invoke(state[\"messages\"])]}\n",
    "\n",
    "# adding the node \n",
    "# the first argument is the unique node name \n",
    "# second argument is the callback function whenever the node is called\n",
    "graph.add_node(\"llm\" , llm)"
   ]
  },
  {
   "cell_type": "code",
   "execution_count": 4,
   "metadata": {},
   "outputs": [
    {
     "data": {
      "text/plain": [
       "<langgraph.graph.state.StateGraph at 0x7197d9406f60>"
      ]
     },
     "execution_count": 4,
     "metadata": {},
     "output_type": "execute_result"
    }
   ],
   "source": [
    "graph.add_edge(START , \"llm\") # tell the graph where to start \n",
    "graph.add_edge(\"llm\" ,END) # tell the graph where to end i.e. anytime this node is run you can exit"
   ]
  },
  {
   "cell_type": "code",
   "execution_count": 5,
   "metadata": {},
   "outputs": [],
   "source": [
    "compiledGraph = graph.compile() # compile the whole graph to use invoke in the script"
   ]
  },
  {
   "cell_type": "markdown",
   "metadata": {},
   "source": [
    "#### Now building the chatbot"
   ]
  },
  {
   "cell_type": "code",
   "execution_count": 6,
   "metadata": {},
   "outputs": [],
   "source": [
    "# print (compiledGraph.invoke({\"messages\": [{\"role\": \"user\", \"content\": \"lets so something fun\"}]})) # testing"
   ]
  },
  {
   "cell_type": "code",
   "execution_count": 16,
   "metadata": {},
   "outputs": [
    {
     "name": "stdout",
     "output_type": "stream",
     "text": [
      "Assitant:  2\n",
      "Assitant:  2\n",
      "Goodbye!\n"
     ]
    }
   ],
   "source": [
    "# async def chat():\n",
    "#     while True:\n",
    "#         inp = input(\"User: \")\n",
    "#         print(\"Assistant: \",compiledGraph.invoke({\n",
    "#             \"messages\" : [\n",
    "#                 {\"role\":\"user\" , \"content\": inp},\n",
    "#                 ]\n",
    "#             })[\"messages\"][-1].content)\n",
    "\n",
    "# # asyncio.run(chat())\n",
    "# await chat()\n",
    "\n",
    "def stream_graph_updates(user_input: str):\n",
    "    print(\"Assitant: \", len(\n",
    "        compiledGraph.invoke(\n",
    "        {\n",
    "            \"messages\": [\n",
    "                {\"role\": \"user\", \"content\": user_input},\n",
    "            ]\n",
    "        }\n",
    "    )[\"messages\"]\n",
    "    ))\n",
    "\n",
    "\n",
    "while True:\n",
    "    user_input = input(\"User: \")\n",
    "    if user_input.lower() in [\"quit\", \"exit\", \"q\"]:\n",
    "        print(\"Goodbye!\")\n",
    "        break\n",
    "\n",
    "    stream_graph_updates(user_input)"
   ]
  },
  {
   "cell_type": "code",
   "execution_count": null,
   "metadata": {},
   "outputs": [],
   "source": []
  }
 ],
 "metadata": {
  "kernelspec": {
   "display_name": "myenv",
   "language": "python",
   "name": "python3"
  },
  "language_info": {
   "codemirror_mode": {
    "name": "ipython",
    "version": 3
   },
   "file_extension": ".py",
   "mimetype": "text/x-python",
   "name": "python",
   "nbconvert_exporter": "python",
   "pygments_lexer": "ipython3",
   "version": "3.12.3"
  }
 },
 "nbformat": 4,
 "nbformat_minor": 2
}
