{
 "cells": [
  {
   "cell_type": "code",
   "execution_count": 2,
   "metadata": {},
   "outputs": [],
   "source": [
    "from typing import Annotated\n",
    "from typing_extensions import TypedDict\n",
    "from langgraph.graph import StateGraph, START, END\n",
    "from langgraph.graph.message import add_messages\n",
    "import asyncio"
   ]
  },
  {
   "cell_type": "code",
   "execution_count": 3,
   "metadata": {},
   "outputs": [],
   "source": [
    "def msg_add(msg1 : list,msg2):\n",
    "    print(msg1,msg2,sep=\", \\n\")\n",
    "    temp = msg2+msg1\n",
    "    print(temp)\n",
    "    return temp\n",
    "\n",
    "class State(TypedDict): # create a type bound dictionary type \n",
    "\n",
    "    messages : Annotated[list , add_messages] # create a key in the dict type with additional metadata added using Annotated\n",
    "    # This basically means that it instructs langgraph to update message using the add_message function\n",
    "    # function like add_message are called reducers\n",
    "\n",
    "graph = StateGraph(State)"
   ]
  },
  {
   "cell_type": "markdown",
   "metadata": {},
   "source": [
    "Now our chatbot can do two key things:\n",
    "- Each node can take the state variable as input and output an update to the state variable\n",
    "- Every time a node updates the message list of the state variable the messages are appended instead of just overwriting over the previous messages."
   ]
  },
  {
   "cell_type": "code",
   "execution_count": 4,
   "metadata": {},
   "outputs": [
    {
     "data": {
      "text/plain": [
       "<langgraph.graph.state.StateGraph at 0x722d5d5b3860>"
      ]
     },
     "execution_count": 4,
     "metadata": {},
     "output_type": "execute_result"
    }
   ],
   "source": [
    "from langchain.chat_models import init_chat_model\n",
    "from dotenv import load_dotenv\n",
    "load_dotenv()\n",
    "\n",
    "model  = init_chat_model(model=\"deepseek/deepseek-chat-v3-0324:free\" , model_provider=\"openai\")\n",
    "\n",
    "# creating the node function\n",
    "def llm(state: State):\n",
    "    return {\"messages\" : model.invoke(state[\"messages\"])}\n",
    "\n",
    "# adding the node \n",
    "# the first argument is the unique node name \n",
    "# second argument is the callback function whenever the node is called\n",
    "graph.add_node(\"llm\" , llm)"
   ]
  },
  {
   "cell_type": "code",
   "execution_count": 5,
   "metadata": {},
   "outputs": [
    {
     "data": {
      "text/plain": [
       "<langgraph.graph.state.StateGraph at 0x722d5d5b3860>"
      ]
     },
     "execution_count": 5,
     "metadata": {},
     "output_type": "execute_result"
    }
   ],
   "source": [
    "graph.add_edge(START , \"llm\") # tell the graph where to start \n",
    "graph.add_edge(\"llm\" ,END) # tell the graph where to end i.e. anytime this node is run you can exit"
   ]
  },
  {
   "cell_type": "code",
   "execution_count": 6,
   "metadata": {},
   "outputs": [],
   "source": [
    "compiledGraph = graph.compile() # compile the whole graph to use invoke in the script"
   ]
  },
  {
   "cell_type": "markdown",
   "metadata": {},
   "source": [
    "#### Now building the chatbot"
   ]
  },
  {
   "cell_type": "code",
   "execution_count": null,
   "metadata": {},
   "outputs": [
    {
     "name": "stdout",
     "output_type": "stream",
     "text": [
      "Hi there! 😊 How can I help you today?\n",
      "Hey there! 😊 Right now, I'm analyzing your message and generating a response—thinking about how best to assist you! I don't have thoughts or feelings, but my \"goal\" is to provide helpful, friendly, and accurate answers to whatever you need.  \n",
      "\n",
      "What about you—what brings you here today? Need help with something? Or just curious? Ask away! 🚀\n"
     ]
    }
   ],
   "source": [
    "while True:\n",
    "    user_inp = input(\"User: \")\n",
    "    if not user_inp == \"q\":\n",
    "        output = compiledGraph.invoke({\n",
    "            \"messages\" : \n",
    "                {\n",
    "                    \"role\": \"user\",\n",
    "                    \"content\": user_inp\n",
    "                },\n",
    "            }\n",
    "        )[\"messages\"][-1].content\n",
    "        print( \"Assistant: \", output, flush=True)\n",
    "    else:\n",
    "        break\n",
    "        "
   ]
  },
  {
   "cell_type": "code",
   "execution_count": null,
   "metadata": {},
   "outputs": [],
   "source": []
  }
 ],
 "metadata": {
  "kernelspec": {
   "display_name": "myenv",
   "language": "python",
   "name": "python3"
  },
  "language_info": {
   "codemirror_mode": {
    "name": "ipython",
    "version": 3
   },
   "file_extension": ".py",
   "mimetype": "text/x-python",
   "name": "python",
   "nbconvert_exporter": "python",
   "pygments_lexer": "ipython3",
   "version": "3.12.3"
  }
 },
 "nbformat": 4,
 "nbformat_minor": 2
}
