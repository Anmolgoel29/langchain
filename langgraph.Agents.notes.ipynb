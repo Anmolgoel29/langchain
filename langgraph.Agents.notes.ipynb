{
 "cells": [
  {
   "cell_type": "code",
   "execution_count": 1,
   "id": "77f0224b",
   "metadata": {},
   "outputs": [],
   "source": [
    "from langchain_community.tools.tavily_search import TavilySearchResults\n",
    "from dotenv import load_dotenv\n",
    "from langchain_core.messages import HumanMessage, ToolMessage\n",
    "load_dotenv()\n",
    "\n",
    "tool = TavilySearchResults(max_results=2)\n",
    "# tool.invoke(\"who is anmol goel\")"
   ]
  },
  {
   "cell_type": "code",
   "execution_count": 24,
   "id": "614930ad",
   "metadata": {},
   "outputs": [],
   "source": [
    "from modules.chatbot.chatbot import chatbot, state\n",
    "\n",
    "llm = chatbot(model_name = \"meta-llama/Llama-3.3-70B-Instruct-Turbo-Free\" , model_provider = \"together\")\n",
    "\n",
    "llm.set_config({\n",
    "    \"configurable\" : {\"thread_id\" : \"2\"}\n",
    "})\n",
    "\n",
    "\n",
    "llm.set_system_prompt(\"You are a helpful AI agent with the task of helping the user in any way possible. Dont give any answer larger than 100 words, but also dont make them too short either.Use tools only when absolutely necessary\")\n"
   ]
  },
  {
   "cell_type": "code",
   "execution_count": 33,
   "id": "a98fb9fe",
   "metadata": {},
   "outputs": [
    {
     "data": {
      "text/plain": [
       "''"
      ]
     },
     "execution_count": 33,
     "metadata": {},
     "output_type": "execute_result"
    }
   ],
   "source": [
    "llm.model = llm.model.bind_tools([tool])\n",
    "\n",
    "llm.invoke(\"sarch the web for the trending movies\")"
   ]
  },
  {
   "cell_type": "code",
   "execution_count": 31,
   "id": "9399db25",
   "metadata": {},
   "outputs": [
    {
     "name": "stderr",
     "output_type": "stream",
     "text": [
      "Adding a node to a graph that has already been compiled. This will not be reflected in the compiled graph.\n",
      "Adding an edge to a graph that has already been compiled. This will not be reflected in the compiled graph.\n",
      "Adding an edge to a graph that has already been compiled. This will not be reflected in the compiled graph.\n"
     ]
    },
    {
     "data": {
      "text/plain": [
       "<langgraph.graph.state.StateGraph at 0x745bbd7c66c0>"
      ]
     },
     "execution_count": 31,
     "metadata": {},
     "output_type": "execute_result"
    }
   ],
   "source": [
    "from langgraph.graph import END,START\n",
    "\n",
    "class BasicToolNode ():\n",
    "    def __init__(self , tools):\n",
    "        self.tool_by_name = {tool.name : tool for tool in tools}\n",
    "\n",
    "    def __call__(self , input):\n",
    "        if messages := input.get(\"mesasges\" , []):\n",
    "            message = messages[-1]\n",
    "        else:\n",
    "            return Exception(\"No message passed\")\n",
    "\n",
    "        output = []\n",
    "\n",
    "        for tool_call in message.tool_calls:\n",
    "            tool_output = self.tool_by_name[tool_call[\"name\"]].invoke(\n",
    "                tool_call[\"args\"]\n",
    "            )\n",
    "\n",
    "            output.append(\n",
    "                ToolMessage(\n",
    "                    content=tool_output,\n",
    "                    name = tool_call['name'],\n",
    "                    id = tool_call[\"id\"]\n",
    "                )    \n",
    "            )\n",
    "\n",
    "        return {messages: output}\n",
    "    \n",
    "\n",
    "def route_tools(state : state):\n",
    "    ai_message = state[\"messages\"][-1]\n",
    "\n",
    "    if hasattr(ai_message,\"tool_calls\") and len(ai_message[\"tool_calls\"]) > 0:\n",
    "        return \"tool\"\n",
    "    \n",
    "    return \"END\"\n",
    "    \n",
    "\n",
    "\n",
    "tool_node = BasicToolNode([tool])\n",
    "\n",
    "llm.graphBuilder.add_node(\"tool\" , tool_node)\n",
    "llm.graphBuilder.add_edge(\"tool\" , \"llm\")\n",
    "llm.graphBuilder.add_conditional_edges(\"llm\" , route_tools , {\"END\" : END , \"tool\" : \"tool\"})\n",
    "\n"
   ]
  },
  {
   "cell_type": "markdown",
   "id": "9e42904b",
   "metadata": {},
   "source": []
  },
  {
   "cell_type": "code",
   "execution_count": null,
   "id": "ff5064f5",
   "metadata": {},
   "outputs": [],
   "source": []
  }
 ],
 "metadata": {
  "kernelspec": {
   "display_name": "myenv",
   "language": "python",
   "name": "python3"
  },
  "language_info": {
   "codemirror_mode": {
    "name": "ipython",
    "version": 3
   },
   "file_extension": ".py",
   "mimetype": "text/x-python",
   "name": "python",
   "nbconvert_exporter": "python",
   "pygments_lexer": "ipython3",
   "version": "3.12.3"
  }
 },
 "nbformat": 4,
 "nbformat_minor": 5
}
